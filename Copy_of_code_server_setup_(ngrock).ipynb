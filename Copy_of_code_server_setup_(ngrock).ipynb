{
  "cells": [
    {
      "cell_type": "markdown",
      "metadata": {
        "id": "view-in-github",
        "colab_type": "text"
      },
      "source": [
        "<a href=\"https://colab.research.google.com/github/ZeenathulNizreen/FedAgg/blob/main/Copy_of_code_server_setup_(ngrock).ipynb\" target=\"_parent\"><img src=\"https://colab.research.google.com/assets/colab-badge.svg\" alt=\"Open In Colab\"/></a>"
      ]
    },
    {
      "cell_type": "markdown",
      "metadata": {
        "id": "vrevYZBUF7NO"
      },
      "source": [
        "# Setting up the environment"
      ]
    },
    {
      "cell_type": "code",
      "execution_count": null,
      "metadata": {
        "colab": {
          "base_uri": "https://localhost:8080/"
        },
        "id": "P2nBXHgfF4Eu",
        "outputId": "d9b1e6c6-6b75-4af0-bb46-f07bf137aef7"
      },
      "outputs": [
        {
          "output_type": "stream",
          "name": "stdout",
          "text": [
            "--2025-05-13 08:42:04--  https://raw.githubusercontent.com/ZeenathulNizreen/Code-server/main/setup.sh\n",
            "Resolving raw.githubusercontent.com (raw.githubusercontent.com)... 185.199.110.133, 185.199.111.133, 185.199.108.133, ...\n",
            "Connecting to raw.githubusercontent.com (raw.githubusercontent.com)|185.199.110.133|:443... connected.\n",
            "HTTP request sent, awaiting response... 200 OK\n",
            "Length: 764 [text/plain]\n",
            "Saving to: ‘setup.sh.2’\n",
            "\n",
            "\rsetup.sh.2            0%[                    ]       0  --.-KB/s               \rsetup.sh.2          100%[===================>]     764  --.-KB/s    in 0s      \n",
            "\n",
            "2025-05-13 08:42:04 (67.3 MB/s) - ‘setup.sh.2’ saved [764/764]\n",
            "\n"
          ]
        }
      ],
      "source": [
        "!wget https://raw.githubusercontent.com/ZeenathulNizreen/Code-server/main/setup.sh\n",
        "!chmod +x setup.sh"
      ]
    },
    {
      "cell_type": "code",
      "execution_count": null,
      "metadata": {
        "colab": {
          "base_uri": "https://localhost:8080/"
        },
        "id": "St_iayv-GFYb",
        "outputId": "582111d0-4052-45c4-e2a7-dd89fc449263"
      },
      "outputs": [
        {
          "output_type": "stream",
          "name": "stdout",
          "text": [
            "--2025-05-13 08:42:06--  https://raw.githubusercontent.com/coder/code-server/main/install.sh\n",
            "Resolving raw.githubusercontent.com (raw.githubusercontent.com)... 185.199.108.133, 185.199.109.133, 185.199.110.133, ...\n",
            "Connecting to raw.githubusercontent.com (raw.githubusercontent.com)|185.199.108.133|:443... connected.\n",
            "HTTP request sent, awaiting response... 200 OK\n",
            "Length: 15872 (16K) [text/plain]\n",
            "Saving to: ‘install.sh.2’\n",
            "\n",
            "\rinstall.sh.2          0%[                    ]       0  --.-KB/s               \rinstall.sh.2        100%[===================>]  15.50K  --.-KB/s    in 0.001s  \n",
            "\n",
            "2025-05-13 08:42:06 (27.3 MB/s) - ‘install.sh.2’ saved [15872/15872]\n",
            "\n",
            "Ubuntu 22.04.4 LTS\n",
            "Installing v4.100.0 of the amd64 deb package from GitHub.\n",
            "\n",
            "+ Reusing ~/.cache/code-server/code-server_4.100.0_amd64.deb\n",
            "+ dpkg -i ~/.cache/code-server/code-server_4.100.0_amd64.deb\n",
            "(Reading database ... 133752 files and directories currently installed.)\n",
            "Preparing to unpack .../code-server_4.100.0_amd64.deb ...\n",
            "Unpacking code-server (4.100.0) over (4.100.0) ...\n",
            "Setting up code-server (4.100.0) ...\n",
            "\n",
            "deb package has been installed.\n",
            "\n",
            "To have systemd start code-server now and restart on boot:\n",
            "  sudo systemctl enable --now code-server@$USER\n",
            "Or, if you don't want/need a background service you can run:\n",
            "  code-server\n",
            "\n",
            "Deploy code-server for your team with Coder: https://github.com/coder/coder\n",
            "Requirement already satisfied: pyngrok in /usr/local/lib/python3.11/dist-packages (7.2.8)\n",
            "Requirement already satisfied: fire in /usr/local/lib/python3.11/dist-packages (0.7.0)\n",
            "Requirement already satisfied: PyYAML>=5.1 in /usr/local/lib/python3.11/dist-packages (from pyngrok) (6.0.2)\n",
            "Requirement already satisfied: termcolor in /usr/local/lib/python3.11/dist-packages (from fire) (3.1.0)\n",
            "--2025-05-13 08:42:14--  https://gist.githubusercontent.com/sachith-gunasekara/06ca96a0ff907415c3d94a09420c1e6c/raw/be236c014068a5cedcc3facda7b0f018c2682c16/ngrok.py\n",
            "Resolving gist.githubusercontent.com (gist.githubusercontent.com)... 185.199.111.133, 185.199.109.133, 185.199.108.133, ...\n",
            "Connecting to gist.githubusercontent.com (gist.githubusercontent.com)|185.199.111.133|:443... connected.\n",
            "HTTP request sent, awaiting response... 200 OK\n",
            "Length: 187 [text/plain]\n",
            "Saving to: ‘ngrok.py.2’\n",
            "\n",
            "ngrok.py.2          100%[===================>]     187  --.-KB/s    in 0s      \n",
            "\n",
            "2025-05-13 08:42:14 (5.95 MB/s) - ‘ngrok.py.2’ saved [187/187]\n",
            "\n",
            "[2025-05-13T08:42:15.504Z] info  code-server 4.100.0 d0e20d514d247470f110d48573d15604b141b81b\n",
            "[2025-05-13T08:42:15.506Z] info  Using user-data-dir /root/.local/share/code-server\n",
            "[2025-05-13T08:42:15.517Z] info  Using config file /root/.config/code-server/config.yaml\n",
            "[2025-05-13T08:42:15.517Z] info  HTTP server listening on http://127.0.0.1:8081/\n",
            "[2025-05-13T08:42:15.517Z] info    - Authentication is enabled\n",
            "[2025-05-13T08:42:15.518Z] info      - Using password from /root/.config/code-server/config.yaml\n",
            "[2025-05-13T08:42:15.518Z] info    - Not serving HTTPS\n",
            "[2025-05-13T08:42:15.519Z] info  Session server listening on /root/.local/share/code-server/code-server-ipc.sock\n",
            "bind-addr: 127.0.0.1:8080\n",
            "auth: password\n",
            "password: 094ed42025e6aa64095da4a1\n",
            "cert: false\n",
            "[08:43:28] \n",
            "\n",
            "\n",
            "\n",
            "\n",
            "[08:43:28] Extension host agent started.\n",
            "[08:43:28] Started initializing default profile extensions in extensions installation folder. file:///root/.local/share/code-server/extensions\n",
            "[08:43:28] ComputeTargetPlatform: linux-x64\n",
            "[08:43:28] Completed initializing default profile extensions in extensions installation folder. file:///root/.local/share/code-server/extensions\n",
            "File not found: /usr/lib/code-server/lib/vscode/node_modules/vsda/rust/web/vsda_bg.wasm\n",
            "File not found: /usr/lib/code-server/lib/vscode/node_modules/vsda/rust/web/vsda.js\n",
            "[08:43:41] [127.0.0.1][f12dc7a5][ManagementConnection] New connection established.\n",
            "[08:43:46] [127.0.0.1][22e051a2][ExtensionHostConnection] New connection established.\n",
            "[08:43:46] [127.0.0.1][22e051a2][ExtensionHostConnection] <3163> Launched Extension Host Process.\n",
            "[08:46:06] [127.0.0.1][f12dc7a5][ManagementConnection] The client has disconnected gracefully, so the connection will be disposed.\n",
            "[08:46:06] [127.0.0.1][22e051a2][ExtensionHostConnection] <3163> Extension Host Process exited with code: 0, signal: null.\n",
            "File not found: /usr/lib/code-server/lib/vscode/node_modules/vsda/rust/web/vsda_bg.wasm\n",
            "File not found: /usr/lib/code-server/lib/vscode/node_modules/vsda/rust/web/vsda.js\n",
            "[08:46:10] [127.0.0.1][f1c63cd8][ManagementConnection] New connection established.\n",
            "[08:46:14] [127.0.0.1][aa81357d][ExtensionHostConnection] New connection established.\n",
            "[08:46:14] [127.0.0.1][aa81357d][ExtensionHostConnection] <5604> Launched Extension Host Process.\n"
          ]
        }
      ],
      "source": [
        "!./setup.sh 8081 2Zhg30mlAg9nRGVpz5aElPSpo5O_2Qx6PUkppcQ4Z2MKPpHyk ##replace ngrock auth token"
      ]
    },
    {
      "cell_type": "code",
      "execution_count": null,
      "metadata": {
        "colab": {
          "base_uri": "https://localhost:8080/"
        },
        "id": "6FiN6B7kljfa",
        "outputId": "4af04433-d8c8-408b-896c-c5ff4cb0db39"
      },
      "outputs": [
        {
          "output_type": "stream",
          "name": "stdout",
          "text": [
            "/bin/bash: line 1: ngrok: command not found\n",
            "/bin/bash: line 1: /usr/bin/code-server: No such file or directory\n"
          ]
        }
      ],
      "source": [
        "!ngrok http 8081 & /usr/bin/code-server --port 8081"
      ]
    },
    {
      "cell_type": "code",
      "execution_count": null,
      "metadata": {
        "id": "BpfNFd-krI5x"
      },
      "outputs": [],
      "source": []
    },
    {
      "cell_type": "code",
      "execution_count": null,
      "metadata": {
        "colab": {
          "base_uri": "https://localhost:8080/"
        },
        "id": "IbufnWOREV-Y",
        "outputId": "4e37a397-c961-4d0f-fea5-fa57e96f1a37"
      },
      "outputs": [
        {
          "name": "stdout",
          "output_type": "stream",
          "text": [
            "Mounted at /content/drive\n"
          ]
        }
      ],
      "source": [
        "from google.colab import drive\n",
        "drive.mount('/content/drive')"
      ]
    },
    {
      "cell_type": "code",
      "execution_count": null,
      "metadata": {
        "id": "A3yQVO18xkXz"
      },
      "outputs": [],
      "source": [
        "\"\"\"# Clone the repo if it doesn't exist and check for successful clone\n",
        "!if [ ! -d \"FedAgg\" ]; then git clone https://github.com/ZeenathulNizreen/FedAgg.git && echo \"Cloned successfully\" || echo \"Clone failed\"; fi\n",
        "%cd FedAgg"
      ]
    },
    {
      "cell_type": "code",
      "execution_count": null,
      "metadata": {
        "id": "q6ufKKM9x_D6"
      },
      "outputs": [],
      "source": [
        "\"\"\"!sudo apt-get update"
      ]
    },
    {
      "cell_type": "code",
      "execution_count": null,
      "metadata": {
        "id": "RIW2UYP6y8j6"
      },
      "outputs": [],
      "source": [
        "\"\"\"!sudo apt-get install python3.10-venv"
      ]
    },
    {
      "cell_type": "code",
      "execution_count": null,
      "metadata": {
        "id": "PHH1gCibz-6M"
      },
      "outputs": [],
      "source": [
        "\"\"\"!ls -la"
      ]
    },
    {
      "cell_type": "code",
      "execution_count": null,
      "metadata": {
        "id": "wF6cGLu1xq8G"
      },
      "outputs": [],
      "source": [
        "\"\"\"# Activate the virtual environment in a way that works in Colab\n",
        "!echo \"Activating environment...\"\n",
        "!source /content/drive/MyDrive/Federated\\ Merging\\ Research/FedAgg/venv/bin/activate; pip install --quiet ipykernel; python -m ipykernel install --user --name=fedagg-env"
      ]
    },
    {
      "cell_type": "code",
      "execution_count": null,
      "metadata": {
        "id": "UWWgKESW0QO4"
      },
      "outputs": [],
      "source": [
        "\"\"\"!pip install -r requirements.txt"
      ]
    },
    {
      "cell_type": "code",
      "execution_count": null,
      "metadata": {
        "colab": {
          "background_save": true
        },
        "id": "ZmQQFTRntcLO"
      },
      "outputs": [],
      "source": [
        "\"\"\"from google.colab import drive\n",
        "drive.mount('/content/drive', force_remount=True)\n",
        "\n",
        "# Navigate to your project folder on Google Drive\n",
        "project_path = '/content/drive/MyDrive/Federated Merging Research/FedAgg'\n",
        "%cd $project_path\n",
        "\n",
        "# Clone the repo if it doesn't exist and check for successful clone\n",
        "!if [ ! -d \"FedAgg\" ]; then git clone https://github.com/ZeenathulNizreen/FedAgg.git && echo \"Cloned successfully\" || echo \"Clone failed\"; fi\n",
        "%cd FedAgg\n",
        "\n",
        "# Setup virtual environment if it doesn't exist\n",
        "!if [ ! -d \"venv\" ]; then python -m venv venv && echo \"Environment created successfully\" || echo \"Failed to create environment\"; fi\n",
        "\n",
        "# Activate the virtual environment in a way that works in Colab\n",
        "!echo \"Activating environment...\"\n",
        "!source /content/drive/MyDrive/Federated\\ Merging\\ Research/FedAgg/venv/bin/activate; pip install --quiet ipykernel; python -m ipykernel install --user --name=fedagg-env\n",
        "\n",
        "# Install requirements\n",
        "#!pip install -r requirements.txt\n",
        "\n",
        "# Launch code-server or any other service\n",
        "# code-server .\n"
      ]
    },
    {
      "cell_type": "code",
      "execution_count": null,
      "metadata": {
        "id": "90UlBAtMFtJo"
      },
      "outputs": [],
      "source": [
        "\"\"\"from google.colab import drive\n",
        "drive.mount('/content/drive')\n",
        "\n",
        "# Navigate to your project folder on Google Drive\n",
        "project_path = '/content/drive/MyDrive/Federated Merging Research/FedAgg'\n",
        "%cd $project_path\n",
        "\n",
        "# Clone the repo if it doesn't exist\n",
        "!if [ ! -d \"FedAgg\" ]; then git clone https://github.com/ZeenathulNizreen/FedAgg.git; fi\n",
        "%cd FedAgg\n",
        "\n",
        "# Setup virtual environment if it doesn't exist\n",
        "!if [ ! -d \"venv\" ]; then python -m venv venv; fi\n",
        "!source venv/bin/activate\n",
        "\n",
        "# Install requirements\n",
        "!pip install -r requirements.txt\n",
        "\n",
        "# Download model if it's not already present\n",
        "# model_folder = 'models/pretrained'\n",
        "# !if [ ! -d \"$model_folder\" ]; then wget -P $model_folder https://url_to_your_pretrained_model; fi\n",
        "\n",
        "# Assume there's a script to prepare for fine-tuning\n",
        "# !python prepare_finetuning.py\n"
      ]
    },
    {
      "cell_type": "code",
      "execution_count": null,
      "metadata": {
        "id": "8hfUO_zo14KJ"
      },
      "outputs": [],
      "source": [
        "# !wget https://gist.githubusercontent.com/sachith-gunasekara/06ca96a0ff907415c3d94a09420c1e6c/raw/0b872bf01bcc58073544768c4eaf6fd7c1a94592/setup.sh\n",
        "# !chmod +x setup.sh"
      ]
    }
  ],
  "metadata": {
    "accelerator": "GPU",
    "colab": {
      "gpuType": "T4",
      "provenance": [],
      "include_colab_link": true
    },
    "kernelspec": {
      "display_name": "Python 3",
      "name": "python3"
    },
    "language_info": {
      "name": "python"
    }
  },
  "nbformat": 4,
  "nbformat_minor": 0
}